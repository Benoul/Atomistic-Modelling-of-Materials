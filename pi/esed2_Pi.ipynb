{
 "cells": [
  {
   "cell_type": "markdown",
   "id": "8446d3f4",
   "metadata": {},
   "source": [
    "Random points within a 1x1 square.\n",
    "\n",
    "Check if r <= 1\n",
    "\n",
    "Acceptance rate = pi * 4"
   ]
  },
  {
   "cell_type": "code",
   "execution_count": 3,
   "id": "27de4d42",
   "metadata": {},
   "outputs": [],
   "source": [
    "import numpy as np\n",
    "import random"
   ]
  },
  {
   "cell_type": "code",
   "execution_count": 5,
   "id": "be0089c1",
   "metadata": {},
   "outputs": [
    {
     "name": "stdout",
     "output_type": "stream",
     "text": [
      "Estimated value of Pi: 3.14146728\n"
     ]
    }
   ],
   "source": [
    "N = 10**8\n",
    "\n",
    "succes = 0\n",
    "x = np.random.rand(N)\n",
    "y = np.random.rand(N)\n",
    "\n",
    "length = np.sqrt(x**2 + y**2)\n",
    "\n",
    "for i in range(N):\n",
    "    if length[i] <= 1:\n",
    "        succes += 1\n",
    "\n",
    "acceptance_rate = succes/N\n",
    "\n",
    "print(\"Estimated value of Pi:\", acceptance_rate*4)\n",
    "\n"
   ]
  }
 ],
 "metadata": {
  "kernelspec": {
   "display_name": "Python 3",
   "language": "python",
   "name": "python3"
  },
  "language_info": {
   "codemirror_mode": {
    "name": "ipython",
    "version": 3
   },
   "file_extension": ".py",
   "mimetype": "text/x-python",
   "name": "python",
   "nbconvert_exporter": "python",
   "pygments_lexer": "ipython3",
   "version": "3.11.9"
  }
 },
 "nbformat": 4,
 "nbformat_minor": 5
}
