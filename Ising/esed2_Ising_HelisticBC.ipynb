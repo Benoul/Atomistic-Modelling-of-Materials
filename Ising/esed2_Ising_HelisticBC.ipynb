{
 "cells": [
  {
   "cell_type": "markdown",
   "id": "40472cfd",
   "metadata": {},
   "source": [
    "ISING MODEL\n"
   ]
  },
  {
   "cell_type": "code",
   "execution_count": 1,
   "id": "9ac0f6be",
   "metadata": {},
   "outputs": [],
   "source": [
    "import numpy as np\n",
    "import random\n",
    "import math\n",
    "import matplotlib.pyplot as plt"
   ]
  },
  {
   "cell_type": "code",
   "execution_count": 2,
   "id": "75ebd8bc",
   "metadata": {},
   "outputs": [],
   "source": [
    "def lattice_f(N):\n",
    "    # flat lattice of ±0.5 spins\n",
    "    lattice = [0.5 * (2*random.randint(0,1)-1) for _ in range(N**2)]\n",
    "    return lattice\n",
    "\n",
    "def energy_f(lattice, N, eps=1.0, B=0.0):\n",
    "    # For ±1/2 spin, scale eps and B so that eps and B refer to the original ±1 model (needed to compare with theory later on)\n",
    "    # eps_eff = 4 * eps (since s_i*s_j scales by 1/4) and B_eff = 2 * B (since s scales by 1/2).\n",
    "    eps_eff = 4.0 * eps\n",
    "    B_eff = 2.0 * B\n",
    "    pair_sum = 0.0\n",
    "    field_sum = 0.0\n",
    "    nsites = N**2\n",
    "    for i in range(nsites):\n",
    "        s = lattice[i]\n",
    "        neighbour = (lattice[(i + N) % nsites] + lattice[(i + 1) % nsites] +\n",
    "                     lattice[(i - N) % nsites] + lattice[(i - 1) % nsites])\n",
    "        pair_sum += s * neighbour\n",
    "        field_sum += s\n",
    "    return -0.5 * eps_eff * pair_sum - B_eff * field_sum\n",
    "\n",
    "def metropolis(N, X, T, eps=1.0, B=0.0):\n",
    "    lattice = lattice_f(N)\n",
    "    net_spin = np.zeros(X)\n",
    "    net_energy = np.zeros(X)\n",
    "\n",
    "    spin = np.sum(lattice)\n",
    "    energy = energy_f(lattice, N, eps, B)\n",
    "    net_spin[0] = spin\n",
    "    net_energy[0] = energy\n",
    "\n",
    "    nsites = N**2\n",
    "    for i in range(1, X):\n",
    "        x = random.randint(0, nsites-1)\n",
    "        spin_i = lattice[x]\n",
    "        neighbour = (lattice[(x + N) % nsites] + lattice[(x + 1) % nsites] +\n",
    "                     lattice[(x - N) % nsites] + lattice[(x - 1) % nsites])\n",
    "        # scale eps and B internally for ±1/2 spins so user-supplied eps,B match ±1 model\n",
    "        eps_eff = 4.0 * eps\n",
    "        B_eff = 2.0 * B\n",
    "        dE = 2.0 * eps_eff * spin_i * neighbour + 2.0 * B_eff * spin_i\n",
    "        r = random.random()\n",
    "        if dE <= 0.0 or r <= math.exp(-dE / T):\n",
    "            lattice[x] = -lattice[x]\n",
    "            spin -= 2.0 * spin_i\n",
    "            energy += dE\n",
    "        net_spin[i] = spin\n",
    "        net_energy[i] = energy\n",
    "    return (net_spin) / (N**2), net_energy / (N**2)"
   ]
  },
  {
   "cell_type": "code",
   "execution_count": 3,
   "id": "583a8432",
   "metadata": {},
   "outputs": [
    {
     "ename": "KeyboardInterrupt",
     "evalue": "",
     "output_type": "error",
     "traceback": [
      "\u001b[1;31m---------------------------------------------------------------------------\u001b[0m",
      "\u001b[1;31mKeyboardInterrupt\u001b[0m                         Traceback (most recent call last)",
      "Cell \u001b[1;32mIn[3], line 20\u001b[0m\n\u001b[0;32m     17\u001b[0m meanm \u001b[38;5;241m=\u001b[39m \u001b[38;5;241m0.5\u001b[39m \u001b[38;5;241m*\u001b[39m meanm_pm1  \u001b[38;5;66;03m# scale to ±1/2 convention\u001b[39;00m\n\u001b[0;32m     19\u001b[0m \u001b[38;5;66;03m# calculate magnetization and energy\u001b[39;00m\n\u001b[1;32m---> 20\u001b[0m magnetization, energy \u001b[38;5;241m=\u001b[39m \u001b[43mmetropolis\u001b[49m\u001b[43m(\u001b[49m\u001b[43mN\u001b[49m\u001b[43m,\u001b[49m\u001b[43m \u001b[49m\u001b[43mX\u001b[49m\u001b[43m,\u001b[49m\u001b[43m \u001b[49m\u001b[43mT\u001b[49m\u001b[43m,\u001b[49m\u001b[43m \u001b[49m\u001b[43meps\u001b[49m\u001b[43m,\u001b[49m\u001b[43m \u001b[49m\u001b[43mB\u001b[49m\u001b[43m)\u001b[49m\n\u001b[0;32m     21\u001b[0m \u001b[38;5;28mprint\u001b[39m(\u001b[38;5;28mlen\u001b[39m(magnetization))\n\u001b[0;32m     23\u001b[0m sweep \u001b[38;5;241m=\u001b[39m np\u001b[38;5;241m.\u001b[39mlinspace(\u001b[38;5;241m0\u001b[39m, X\u001b[38;5;241m/\u001b[39mN\u001b[38;5;241m*\u001b[39m\u001b[38;5;241m*\u001b[39m\u001b[38;5;241m2\u001b[39m, \u001b[38;5;28mlen\u001b[39m(magnetization))  \u001b[38;5;66;03m# use Monte Carlo sweeps\u001b[39;00m\n",
      "Cell \u001b[1;32mIn[2], line 48\u001b[0m, in \u001b[0;36mmetropolis\u001b[1;34m(N, X, T, eps, B)\u001b[0m\n\u001b[0;32m     46\u001b[0m         energy \u001b[38;5;241m+\u001b[39m\u001b[38;5;241m=\u001b[39m dE\n\u001b[0;32m     47\u001b[0m     net_spin[i] \u001b[38;5;241m=\u001b[39m spin\n\u001b[1;32m---> 48\u001b[0m     net_energy[i] \u001b[38;5;241m=\u001b[39m energy\n\u001b[0;32m     49\u001b[0m \u001b[38;5;28;01mreturn\u001b[39;00m (net_spin) \u001b[38;5;241m/\u001b[39m (N\u001b[38;5;241m*\u001b[39m\u001b[38;5;241m*\u001b[39m\u001b[38;5;241m2\u001b[39m), net_energy \u001b[38;5;241m/\u001b[39m (N\u001b[38;5;241m*\u001b[39m\u001b[38;5;241m*\u001b[39m\u001b[38;5;241m2\u001b[39m)\n",
      "\u001b[1;31mKeyboardInterrupt\u001b[0m: "
     ]
    }
   ],
   "source": [
    "# initial conditions (±1/2 spins)\n",
    "N = 50\n",
    "X = 2000*N**2\n",
    "T = 2.2\n",
    "eps = 1.0\n",
    "B = 0\n",
    "\n",
    "# exact Onsager (±1) and scaled to ±1/2 for plotting\n",
    "# Only works for B = 0\n",
    "def m_onsager(J, T):\n",
    "    Tc = 2*J / math.log(1 + math.sqrt(2))\n",
    "    if T >= Tc:\n",
    "        return 0.0\n",
    "    x = math.sinh(2 * J / T)\n",
    "    return (1.0 - x**(-4))**(1.0/8.0)\n",
    "meanm_pm1 = m_onsager(eps, T)\n",
    "meanm = 0.5 * meanm_pm1  # scale to ±1/2 convention\n",
    "\n",
    "# calculate magnetization and energy\n",
    "magnetization, energy = metropolis(N, X, T, eps, B)\n",
    "print(len(magnetization))\n",
    "\n",
    "sweep = np.linspace(0, X/N**2, len(magnetization))  # use Monte Carlo sweeps\n",
    "print(len(sweep))\n",
    "\n",
    "print('Theoretical value of magnetization (±1/2):', meanm)\n",
    "\n",
    "# plot magnetization as function of sweeps\n",
    "plt.figure()\n",
    "plt.axhline(y = meanm, color = 'r', linestyle = '-')\n",
    "plt.axhline(y = -meanm, color = 'r', linestyle = '-')\n",
    "\n",
    "plt.plot(sweep, magnetization)\n",
    "plt.title('Ising model: Magnetization (±1/2)', fontsize=16)\n",
    "plt.xlabel('Sweep', fontsize=16)\n",
    "plt.ylabel('Magnetization per spin', fontsize=16)\n",
    "plt.legend(labels = ['Theoretical value'])\n",
    "\n",
    "# Calculate the mean of the numerical data for magnetization, starting from tau_eq (in attempted flips)\n",
    "tau_eq = 500 * N**2\n",
    "mean_m = np.mean(magnetization[tau_eq:])\n",
    "print('The mean of the magnetization is:', mean_m)\n",
    "print('The exact value of the magnetization is:', meanm)\n",
    "\n",
    "magnetization_every_N2 = []\n",
    "sweep_every_N2 = []\n",
    "for i in range(0, len(magnetization), N**2):\n",
    "    magnetization_every_N2.append(magnetization[i])\n",
    "    sweep_every_N2.append(sweep[i])\n",
    "\n",
    "print(len(sweep_every_N2))\n",
    "print(len(magnetization_every_N2))"
   ]
  }
 ],
 "metadata": {
  "kernelspec": {
   "display_name": "Python 3",
   "language": "python",
   "name": "python3"
  },
  "language_info": {
   "codemirror_mode": {
    "name": "ipython",
    "version": 3
   },
   "file_extension": ".py",
   "mimetype": "text/x-python",
   "name": "python",
   "nbconvert_exporter": "python",
   "pygments_lexer": "ipython3",
   "version": "3.11.9"
  }
 },
 "nbformat": 4,
 "nbformat_minor": 5
}
